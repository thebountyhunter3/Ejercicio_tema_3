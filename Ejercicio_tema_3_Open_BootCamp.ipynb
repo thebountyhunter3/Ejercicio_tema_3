{
  "nbformat": 4,
  "nbformat_minor": 0,
  "metadata": {
    "colab": {
      "provenance": []
    },
    "kernelspec": {
      "name": "python3",
      "display_name": "Python 3"
    },
    "language_info": {
      "name": "python"
    }
  },
  "cells": [
    {
      "cell_type": "markdown",
      "source": [
        "**Ejercicio tema 3**  -\n",
        "*Curso de Introducción a la programación*\n",
        "\n",
        "# Primera parte:\n",
        "\n",
        "Crear una función con tres parámetros que sean números que se suman entre sí.\n",
        "Llamar a la función en el main y darle valores.\n",
        "\n",
        "# Segunda parte:\n",
        "\n",
        "Crear una clase coche.\n",
        "Dentro de la clase coche, una variable numérica que almacene el número de puertas que tiene.\n",
        "Una función que incremente el número de puertas que tiene el coche.\n",
        "Crear un objeto miCoche en el main y añadirle una puerta.\n",
        "Mostrar el número de puertas que tiene el objeto.\n",
        "```\n"
      ],
      "metadata": {
        "id": "F6Ap7py5Tjf4"
      }
    },
    {
      "cell_type": "code",
      "execution_count": 191,
      "metadata": {
        "colab": {
          "base_uri": "https://localhost:8080/"
        },
        "id": "x7o3zVJoTh8o",
        "outputId": "27e4b975-f5ce-428a-a563-133a17804c43"
      },
      "outputs": [
        {
          "output_type": "stream",
          "name": "stdout",
          "text": [
            "Ingrese el primer parámetro: 2\n",
            "Ingrese el segundo parámetro: 2\n",
            "Ingrese el tercer parámetro: 2\n",
            "La suma de los valores es:  6\n"
          ]
        }
      ],
      "source": [
        "##Primera parte\n",
        "def my_function(a,b,c):\n",
        "  print(\"La suma de los valores es: \",a + b + c )\n",
        "\n",
        "a=int(input(\"Ingrese el primer parámetro: \"))\n",
        "b=int(input(\"Ingrese el segundo parámetro: \"))\n",
        "c=int(input(\"Ingrese el tercer parámetro: \"))\n",
        "my_function(a,b,c)"
      ]
    },
    {
      "cell_type": "code",
      "source": [
        "##Segunda parte\n",
        "class Coche:\n",
        "  marca=\"\"\n",
        "  modelo=2005\n",
        "  placa=\"\"\n",
        "  npuertas=int(input(\"ingrese # puertas: \"))\n",
        "  nasientos=int(input(\"ingrese # asientos: \"))\n",
        "\n",
        "def my_function(npuertas):\n",
        "  incremento=0\n",
        "\n",
        "  for numero in npuertas:                 \n",
        "    incremento += numero\n",
        "\n",
        "  return incremento  \n",
        "\n",
        "numero= [1,2,3,4,5,6]\n",
        "\n",
        "taxi = Coche()\n",
        "print(\"El # de puertas es: \", taxi.npuertas)\n",
        "print(\"La suma de las puertas ingresadas mas el incremento: \",taxi.npuertas + my_function(numero))\n",
        "print(\"La suma de las puertas solo con el incremento: \",my_function(numero))\n"
      ],
      "metadata": {
        "colab": {
          "base_uri": "https://localhost:8080/"
        },
        "id": "7YUAr3ybPQIu",
        "outputId": "5c749004-50bf-4087-dd2f-d486ebd045d9"
      },
      "execution_count": 192,
      "outputs": [
        {
          "output_type": "stream",
          "name": "stdout",
          "text": [
            "ingrese # puertas: 2\n",
            "ingrese # asientos: 4\n",
            "El # de puertas es:  2\n",
            "La suma de las puertas ingresadas mas el incremento:  23\n",
            "La suma de las puertas solo con el incremento:  21\n"
          ]
        }
      ]
    }
  ]
}